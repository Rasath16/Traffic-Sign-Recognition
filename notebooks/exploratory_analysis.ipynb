{
 "cells": [
  {
   "cell_type": "markdown",
   "id": "b939dab0",
   "metadata": {},
   "source": [
    "# Exploratory Analysis\n",
    "This notebook will hold EDA for the traffic sign dataset."
   ]
  },
  {
   "cell_type": "code",
   "execution_count": null,
   "id": "d36b1849",
   "metadata": {},
   "outputs": [],
   "source": [
    "# Minimal check: list project files\n",
    "import os\n",
    "print(os.listdir('.'))"
   ]
  }
 ],
 "metadata": {
  "language_info": {
   "name": "python"
  }
 },
 "nbformat": 4,
 "nbformat_minor": 5
}
